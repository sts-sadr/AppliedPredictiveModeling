{
 "cells": [
  {
   "cell_type": "markdown",
   "metadata": {},
   "source": [
    "# CHAPTER 7. 비선형 회귀 모델\n",
    "\n",
    "- 신경망모델, 다변량 적응 회귀 스플라인(MARS), 서포트 벡터머신(SVM), KNN"
   ]
  },
  {
   "cell_type": "code",
   "execution_count": 4,
   "metadata": {},
   "outputs": [
    {
     "name": "stderr",
     "output_type": "stream",
     "text": [
      "Loading required package: lattice\n",
      "Loading required package: ggplot2\n"
     ]
    }
   ],
   "source": [
    "library(AppliedPredictiveModeling)\n",
    "data(solubility)\n",
    "\n",
    "library(caret)\n",
    "set.seed(100)\n",
    "indx <- createFolds(solTrainY, returnTrain = TRUE,k = 5)\n",
    "ctrl <- trainControl(method = \"cv\", index = indx)"
   ]
  },
  {
   "cell_type": "markdown",
   "metadata": {},
   "source": [
    "## 1. 신경망 모델\n",
    "\n",
    "- 뇌의 작동 방식에 대한 이론에서 영향을 받은 강력한 비선형 회귀 기법\n",
    "\n",
    "\n",
    "- 결과 값은 관측되지 않은 변수에 대한 중간값의 세트 형태로 만들어진다(은닉 변수, 은닉 단위)\n",
    "\n",
    "\n",
    "- 은닉 단위는 **원 예측 변수의 선형 조합**으로 만들어지지만 이 값이 수직적 형태로 추정되지는 않는다.\n",
    "\n",
    "\n",
    "- 은닉 단위는 **일부 또는 전 예측 변수의 선형 조합**이다.\n",
    "\n",
    "\n",
    "- 선형 조합은 일반적으로 비선형 함수로 로지스틱(시그모이드) 함수 같은 것이 사용된다.\n",
    "\n",
    "\n",
    "- 신경망 모델은 보통 결과값까지 도달하는 데 여러 은닉 단위를 포함시킨다.\n",
    "\n",
    "\n",
    "- 은닉 단위의 개수가 정의되면 각 단위는 결과와 연관된다.\n",
    "\n",
    "\n",
    "- 다른 선형 조합은 결과에 연관된 은닉 단위를 연결할 것이다.\n",
    "\n",
    "\n",
    "- H개의 은닉 단위, P개의 예측 변수 유형인 경우, **H(P+1)+H+1 개의 수**를 추정하게 된다.\n",
    "\n",
    "\n",
    "- 인수 최적화는 회귀 모델로 친다면 잔차 제곱합을 최소화 하는 식으로 진행된다.\n",
    "\n",
    "\n",
    "- **역전파 알고리즘(Back-Propagation)** : 최적 인수를 찾기 위한 방법, 인수를 임의의수로 초기화한 후 방정식을 푸는 특별한 알고리즘\n",
    "\n",
    "\n",
    "- 하지만 위 방정식의 해법은 보통 **전역 해법이 아니다**. \n",
    "\n",
    "\n",
    "- 신경망은 회귀 계수가 커짐에 따라 **예측 변수와 응답 변수 간의 관계를 과적합** 시키는 경향이 있다.\n",
    "\n",
    "\n",
    "- 과적합 문제를 해결하기 위한 방법\n",
    "\n",
    "    - **조기 정지 방식** : 회귀 방정식을 풀기 위한 반복 알고리즘을 보다 빠르게 멈추는 것(몇몇 오차율 추정값이 증가하기 시작하면 최적화 과정을 멈춘다)\n",
    "    \n",
    "    - **가중값 감소** : 벌점 방식을 사용해 능형 회귀처럼 모델을 정규화하는 것\n",
    "    \n",
    "    \n",
    "- 신경망 모델 구조\n",
    "\n",
    "    - 단일층 피드 포워드 망 : 가장 단순한 신경망 모델 구조\n",
    "    \n",
    "    - 층 간에 양방향으로 반복적으로 오가는 형태\n",
    "    \n",
    "    - 베이지안적 접근(Neal, 1996) : 자동 정규화와 자동 특징 선택을 포함\n",
    "    \n",
    "    \n",
    "- 자기 조직화 지도 (Self-Organizing Map) : 신경망과 매우 유사한 모델로 비지도식 탐색적 접근방법에 사용하거나 예측 시 지도적 방식으로 사용\n",
    "\n",
    "\n",
    "- **모델 평균 방식** : 보다 안정적인 예측 값을 생성하기 위해 서로 다른 시작 값을 만든 후 이에 대한 결과의 평균을 내는 방식\n",
    "\n",
    "    - 하지만 때때로 예측변수들 간의 높은 상관성을 만들기도 함\n",
    "    \n",
    "    - 높은 상관 관계가 있는 변수를 사전에 제거\n",
    "    \n",
    "    - 주성분 분석과 같은 특징 추출 기법을 모델링 전에 사용함으로써 상관관계 문제를 제거"
   ]
  },
  {
   "cell_type": "code",
   "execution_count": null,
   "metadata": {},
   "outputs": [],
   "source": [
    "library(doParallel)\n",
    "registerDoParallel(3)\n",
    "\n",
    "nnetGrid <- expand.grid(decay = c(0, 0.01, .1), \n",
    "                        size = c(7, 9, 11, 13), \n",
    "                        bag = FALSE)"
   ]
  },
  {
   "cell_type": "code",
   "execution_count": null,
   "metadata": {},
   "outputs": [],
   "source": [
    "# 실행시간이 너무 오래걸림\n",
    "#set.seed(100)\n",
    "#nnetTune <- train(x = solTrainXtrans, y = solTrainY,\n",
    "#                  method = \"avNNet\",\n",
    "#                  tuneGrid = nnetGrid,\n",
    "#                  trControl = ctrl,\n",
    "#                  preProc = c(\"center\", \"scale\"),\n",
    "#                  linout = TRUE,\n",
    "#                  trace = FALSE,\n",
    "#                  MaxNWts = 13 * (ncol(solTrainXtrans) + 1) + 13 + 1,\n",
    "#                  maxit = 300,\n",
    "#                  allowParallel = FALSE)\n",
    "#nnetTune"
   ]
  },
  {
   "cell_type": "markdown",
   "metadata": {},
   "source": [
    "## 2. 다변량 가법 회귀 스플라인 모델 (Multivariate Adaptive Regression Splines, MARS)\n",
    "\n",
    "- MARS는 모델에 사용하는 예측 변수를 두 가지 상반된 형태로 만든다. \n",
    "\n",
    "\n",
    "- MARS에서 원변수 대신 사용되는 요소는 보통 한 번에 예측 변수 한두개가 사용되는 함수\n",
    "\n",
    "\n",
    "- 예측 변수를 두 그룹으로 나누어 각 그룹에 대해 예측 변수와 결과 값의 선형 조합을 모델링하는 특성\n",
    "\n",
    "\n",
    "- 예측 변수에 대해 구분점을 줌\n",
    "\n",
    "    - \"좌측\" 요소는 구분점보다 조금이라도 큰 값\n",
    "    - \"우측\" 요소는 구분점보다 조금이라도 작은 요소를 포함\n",
    "    \n",
    "    \n",
    "- 이러한 새 요소들을 기본 선형 회귀 모델에 추가해 기울기와 절편을 추정 (구간별 선형 모델)\n",
    "\n",
    "\n",
    "- 후보 요소들에 대해 선형 회귀 모델을 만들어 후보 구분점을 만들고 각 예측 변수에 대한 모델 오차를 구해 최소 오차를 내는 예측변수/구분점 조합을 사용한다.\n",
    "\n",
    "\n",
    "- 전체 요소가 생성되면, 알고리즘은 모델 방정식에 유의한 영향을 미치지 못하는 개별 요소를 순차적으로 제거\n",
    "    - 오차율이 얼마나 줄어드는지를 추정해 평가\n",
    "    - 각 요소의 기여도를 판단할 때는 GCV 통계량을 사용한다. (1개의 값을 남겨 두는 식의 교차 검증식을 추정해 오차값을 구하는 선형 회귀 모델의 계산 형태 단축키와 같다.)\n",
    "    \n",
    "        \n",
    "- MARS 모델에서는 2개의 튜닝 변수 존재\n",
    "    - 모델에 더해지는 요소의 차수\n",
    "    - 남아 있는 항의 수\n",
    "    \n",
    "    \n",
    "- GCV 추정값은 교차 검증 과정이나 테스트 세트를 사용해 구한 값보다 긍정적으로 나타난다.\n",
    "\n",
    "\n",
    "- GCV 추정값은 특정 선택상에서 야기 될 수 있는 편향적 선택으로 인한 불확실성을 반영하지 않는다.\n",
    "\n",
    "\n",
    "- MARS 모델의 이점\n",
    "\n",
    "    - 자동으로 특징 선택\n",
    "    - 해석력이 좋다\n",
    "    - 데이터 전처리가 필요 없다."
   ]
  },
  {
   "cell_type": "code",
   "execution_count": 1,
   "metadata": {},
   "outputs": [
    {
     "name": "stdout",
     "output_type": "stream",
     "text": [
      "package 'earth' successfully unpacked and MD5 sums checked\n",
      "\n",
      "The downloaded binary packages are in\n",
      "\tC:\\Users\\student\\AppData\\Local\\Temp\\RtmpQpcJtM\\downloaded_packages\n"
     ]
    }
   ],
   "source": [
    "install.packages(\"earth\")"
   ]
  },
  {
   "cell_type": "code",
   "execution_count": 2,
   "metadata": {},
   "outputs": [
    {
     "name": "stderr",
     "output_type": "stream",
     "text": [
      "Loading required package: plotmo\n",
      "Loading required package: plotrix\n",
      "Loading required package: TeachingDemos\n"
     ]
    }
   ],
   "source": [
    "library(earth)"
   ]
  },
  {
   "cell_type": "code",
   "execution_count": 5,
   "metadata": {},
   "outputs": [],
   "source": [
    "set.seed(100)\n",
    "marsTune <- train(x = solTrainXtrans, y = solTrainY,\n",
    "                  method = \"earth\",\n",
    "                  tuneGrid = expand.grid(degree = 1, nprune = 2:38),\n",
    "                  trControl = ctrl)"
   ]
  },
  {
   "cell_type": "code",
   "execution_count": 6,
   "metadata": {},
   "outputs": [
    {
     "data": {
      "text/plain": [
       "Multivariate Adaptive Regression Spline \n",
       "\n",
       "951 samples\n",
       "228 predictors\n",
       "\n",
       "No pre-processing\n",
       "Resampling: Cross-Validated (10 fold) \n",
       "Summary of sample sizes: 761, 760, 761, 761, 761 \n",
       "Resampling results across tuning parameters:\n",
       "\n",
       "  nprune  RMSE       Rsquared   MAE      \n",
       "   2      1.5595264  0.4202027  1.1948169\n",
       "   3      1.1591558  0.6834014  0.8920263\n",
       "   4      1.0584122  0.7359689  0.8126383\n",
       "   5      0.9768069  0.7757225  0.7372216\n",
       "   6      0.9283871  0.7962609  0.7174837\n",
       "   7      0.8828474  0.8147141  0.6839234\n",
       "   8      0.8502673  0.8287534  0.6561488\n",
       "   9      0.8329771  0.8354348  0.6400454\n",
       "  10      0.8311301  0.8358872  0.6330869\n",
       "  11      0.8217081  0.8393627  0.6292012\n",
       "  12      0.8030232  0.8470235  0.6168000\n",
       "  13      0.8044696  0.8457460  0.6162010\n",
       "  14      0.7920158  0.8510205  0.6073237\n",
       "  15      0.7795147  0.8556656  0.5981200\n",
       "  16      0.7738916  0.8575841  0.5932756\n",
       "  17      0.7635393  0.8613300  0.5816250\n",
       "  18      0.7535606  0.8647233  0.5736953\n",
       "  19      0.7457972  0.8677911  0.5664169\n",
       "  20      0.7375970  0.8705691  0.5574483\n",
       "  21      0.7379058  0.8700801  0.5534248\n",
       "  22      0.7336226  0.8718936  0.5519130\n",
       "  23      0.7250664  0.8750283  0.5475043\n",
       "  24      0.7153606  0.8784253  0.5407497\n",
       "  25      0.7146859  0.8787125  0.5435084\n",
       "  26      0.7088187  0.8802990  0.5411268\n",
       "  27      0.7073756  0.8808072  0.5420347\n",
       "  28      0.7014308  0.8830595  0.5395913\n",
       "  29      0.6979836  0.8841290  0.5340869\n",
       "  30      0.6905006  0.8866383  0.5295389\n",
       "  31      0.6933169  0.8858303  0.5343140\n",
       "  32      0.6872738  0.8876562  0.5318965\n",
       "  33      0.6871299  0.8877977  0.5302462\n",
       "  34      0.6864911  0.8879524  0.5308277\n",
       "  35      0.6863584  0.8879476  0.5315581\n",
       "  36      0.6856098  0.8882302  0.5294618\n",
       "  37      0.6835090  0.8890483  0.5282780\n",
       "  38      0.6810366  0.8898626  0.5266835\n",
       "\n",
       "Tuning parameter 'degree' was held constant at a value of 1\n",
       "RMSE was used to select the optimal model using the smallest value.\n",
       "The final values used for the model were nprune = 38 and degree = 1."
      ]
     },
     "metadata": {},
     "output_type": "display_data"
    }
   ],
   "source": [
    "marsTune "
   ]
  },
  {
   "cell_type": "code",
   "execution_count": 7,
   "metadata": {},
   "outputs": [
    {
     "data": {},
     "metadata": {},
     "output_type": "display_data"
    },
    {
     "data": {
      "image/png": "[encoded data removed]",
      "text/plain": [
       "plot without title"
      ]
     },
     "metadata": {},
     "output_type": "display_data"
    }
   ],
   "source": [
    "win.graph()\n",
    "plot(marsTune)"
   ]
  },
  {
   "cell_type": "code",
   "execution_count": 8,
   "metadata": {
    "scrolled": true
   },
   "outputs": [
    {
     "data": {},
     "metadata": {},
     "output_type": "display_data"
    },
    {
     "data": {
      "image/png": "[encoded data removed]",
      "text/plain": [
       "plot without title"
      ]
     },
     "metadata": {},
     "output_type": "display_data"
    }
   ],
   "source": [
    "marsImp <- varImp(marsTune, scale = FALSE)\n",
    "plot(marsImp, top = 25)"
   ]
  },
  {
   "cell_type": "markdown",
   "metadata": {},
   "source": [
    "## 3. 서포트 벡터 머신\n",
    "\n",
    "- 강력하고 유연성 높은 모델링 기법\n",
    "\n",
    "\n",
    "- $\\epsilon$ - 불감성회귀(insensitive regression) 을 대표 유형으로 살펴봄\n",
    "\n",
    "\n",
    "- 선형회귀에서 SSE를 최소화 하는 경우 문제점 : 전체 데이터 추세와 떨어진 관측치에 영향을 많이 받는다.\n",
    "\n",
    "\n",
    "- 회귀를 사용하는 SVM은 후버 함수와 비슷한 함수를 사용하지만, 사용자가 정한 수치($\\epsilon$)가 주어졌을 때, 임계점 내에 잔차가 있는 데이터 포인트는 회귀 최적화에 영향을 미치지 않지만, 임계점과의 절대 차가 큰 데이터 포인트는 모델에 선형 영향을 미칠 수 있다.\n",
    "\n",
    "\n",
    "- 주요 특징\n",
    "\n",
    "    * 잔차 제곱을 사용하지 않으므로 큰 이상값이 회귀 방정식에 미칠 수 있는 효과가 한정적이다.\n",
    "    \n",
    "    * 모델에 잘 맞는 샘플은(잔차가 작은 샘플) 회귀 방정식에 전혀 영향을 미치지 않는다. (임계값이 충분히 큰 수로 설정됐다면, 회귀선을 정의하는 데 영향을 미치는 것은 이상값 뿐이다.)\n",
    "    \n",
    "    \n",
    "- 선형 서포트 벡터 머신의 예측함수\n",
    "\n",
    "    * 데이터 포인트 만큼 많은 인수가 존재 : 과하게 매개변수화돼 있는 경향이 있다.\n",
    "    \n",
    "    * 새 예측 모델에는 개별 훈련 데이터 세트의 데이터가 필요하다.\n",
    "    \n",
    "    * 훈련 세트가 크다면 예측 방정식이 다른 기법보다 다소 복잡해질 수 있다.\n",
    "    \n",
    "    \n",
    "- 커널 트릭 : 비선형 모델을 설명하기 위해 적용하는 함수\n",
    "\n",
    "    * 다항 함수\n",
    "    \n",
    "    * 방사형 기반 함수\n",
    "    \n",
    "    * 쌍곡 탄젠트\n",
    "    \n",
    "    \n",
    "- 비용 변수 : 모델의 복잡도를 측정하는 대표적인 수단\n",
    "\n",
    "    * 비용이 커지면 모델은 매우 유연해지지만, 오차 효과는 증폭된다.\n",
    "    \n",
    "    * 비용이 작은 경우, 모델은 경직이 오며 과적합으로 가는 경향이 낮아진다.\n",
    "    \n",
    "    \n",
    "- 예측 변수 척도 차이가 모델에 영향을 미칠 수 있다. : SVM 모델을 만들기 전에 예측변수에 먼저 중심화, 척도화를 한다."
   ]
  },
  {
   "cell_type": "code",
   "execution_count": 10,
   "metadata": {},
   "outputs": [],
   "source": [
    "set.seed(100)\n",
    "svmRTune <- train(x = solTrainXtrans, y = solTrainY,\n",
    "                  method = \"svmRadial\",\n",
    "                  preProc = c(\"center\", \"scale\"),\n",
    "                  tuneLength = 14,\n",
    "                  trControl = ctrl)"
   ]
  },
  {
   "cell_type": "code",
   "execution_count": 11,
   "metadata": {},
   "outputs": [
    {
     "data": {
      "text/plain": [
       "Support Vector Machines with Radial Basis Function Kernel \n",
       "\n",
       "951 samples\n",
       "228 predictors\n",
       "\n",
       "Pre-processing: centered (228), scaled (228) \n",
       "Resampling: Cross-Validated (10 fold) \n",
       "Summary of sample sizes: 761, 760, 761, 761, 761 \n",
       "Resampling results across tuning parameters:\n",
       "\n",
       "  C        RMSE       Rsquared   MAE      \n",
       "     0.25  0.8248881  0.8601954  0.6154980\n",
       "     0.50  0.7245026  0.8837766  0.5414887\n",
       "     1.00  0.6711897  0.8966632  0.4977384\n",
       "     2.00  0.6370451  0.9051702  0.4689804\n",
       "     4.00  0.6222739  0.9085952  0.4559337\n",
       "     8.00  0.6077654  0.9121311  0.4461431\n",
       "    16.00  0.6022351  0.9134520  0.4434838\n",
       "    32.00  0.6016155  0.9133892  0.4441202\n",
       "    64.00  0.5991967  0.9138120  0.4431945\n",
       "   128.00  0.6000175  0.9135433  0.4440183\n",
       "   256.00  0.6026872  0.9129046  0.4465660\n",
       "   512.00  0.6065498  0.9118377  0.4491954\n",
       "  1024.00  0.6082919  0.9111903  0.4511546\n",
       "  2048.00  0.6132265  0.9095552  0.4558016\n",
       "\n",
       "Tuning parameter 'sigma' was held constant at a value of 0.002762998\n",
       "RMSE was used to select the optimal model using the smallest value.\n",
       "The final values used for the model were sigma = 0.002762998 and C = 64."
      ]
     },
     "metadata": {},
     "output_type": "display_data"
    }
   ],
   "source": [
    "svmRTune"
   ]
  },
  {
   "cell_type": "code",
   "execution_count": 12,
   "metadata": {},
   "outputs": [
    {
     "data": {},
     "metadata": {},
     "output_type": "display_data"
    },
    {
     "data": {
      "image/png": "[encoded data removed]",
      "text/plain": [
       "plot without title"
      ]
     },
     "metadata": {},
     "output_type": "display_data"
    }
   ],
   "source": [
    "win.graph()\n",
    "plot(svmRTune, scales = list(x = list(log = 2)))"
   ]
  },
  {
   "cell_type": "code",
   "execution_count": 13,
   "metadata": {},
   "outputs": [
    {
     "data": {
      "text/plain": [
       "Support Vector Machines with Polynomial Kernel \n",
       "\n",
       "951 samples\n",
       "228 predictors\n",
       "\n",
       "Pre-processing: centered (228), scaled (228) \n",
       "Resampling: Cross-Validated (10 fold) \n",
       "Summary of sample sizes: 761, 760, 761, 761, 761 \n",
       "Resampling results across tuning parameters:\n",
       "\n",
       "  degree  scale  C      RMSE       Rsquared   MAE      \n",
       "  1       0.001   0.25  1.0845844  0.7863696  0.8077434\n",
       "  1       0.001   0.50  0.9137700  0.8300626  0.6843657\n",
       "  1       0.001   1.00  0.8068253  0.8546090  0.6096483\n",
       "  1       0.001   2.00  0.7462479  0.8708883  0.5648285\n",
       "  1       0.001   4.00  0.7145833  0.8796925  0.5441948\n",
       "  1       0.001   8.00  0.7025231  0.8829041  0.5305937\n",
       "  1       0.001  16.00  0.6981953  0.8840583  0.5256058\n",
       "  1       0.001  32.00  0.7085775  0.8810265  0.5305869\n",
       "  1       0.005   0.25  0.7843026  0.8606588  0.5930705\n",
       "  1       0.005   0.50  0.7335103  0.8743445  0.5561220\n",
       "  1       0.005   1.00  0.7082002  0.8813549  0.5379899\n",
       "  1       0.005   2.00  0.6997018  0.8837158  0.5278384\n",
       "  1       0.005   4.00  0.7040712  0.8822088  0.5294342\n",
       "  1       0.005   8.00  0.7123631  0.8800842  0.5331219\n",
       "  1       0.005  16.00  0.7290819  0.8748518  0.5414449\n",
       "  1       0.005  32.00  0.7370118  0.8720157  0.5431706\n",
       "  1       0.010   0.25  0.7335098  0.8743421  0.5561153\n",
       "  1       0.010   0.50  0.7082039  0.8813513  0.5379903\n",
       "  1       0.010   1.00  0.6997158  0.8837164  0.5278307\n",
       "  1       0.010   2.00  0.7041231  0.8821963  0.5294278\n",
       "  1       0.010   4.00  0.7123457  0.8800958  0.5330727\n",
       "  1       0.010   8.00  0.7291567  0.8748301  0.5415329\n",
       "  1       0.010  16.00  0.7367719  0.8720558  0.5429866\n",
       "  1       0.010  32.00  0.7430400  0.8697683  0.5430725\n",
       "  2       0.001   0.25  0.8971775  0.8375185  0.6694785\n",
       "  2       0.001   0.50  0.7830366  0.8640245  0.5899425\n",
       "  2       0.001   1.00  0.7149447  0.8819296  0.5392681\n",
       "  2       0.001   2.00  0.6741562  0.8935418  0.5048644\n",
       "  2       0.001   4.00  0.6513182  0.9002323  0.4821082\n",
       "  2       0.001   8.00  0.6399371  0.9033171  0.4691052\n",
       "  2       0.001  16.00  0.6432070  0.9025459  0.4702627\n",
       "  2       0.001  32.00  0.6465602  0.9020011  0.4748636\n",
       "  2       0.005   0.25  0.6688183  0.8959538  0.4989645\n",
       "  2       0.005   0.50  0.6424729  0.9030114  0.4744094\n",
       "  2       0.005   1.00  0.6353065  0.9047375  0.4648939\n",
       "  2       0.005   2.00  0.6353779  0.9047414  0.4651322\n",
       "  2       0.005   4.00  0.6344414  0.9052959  0.4652409\n",
       "  2       0.005   8.00  0.6353400  0.9051543  0.4676592\n",
       "  2       0.005  16.00  0.6403924  0.9038949  0.4742854\n",
       "  2       0.005  32.00  0.6473615  0.9020489  0.4793149\n",
       "  2       0.010   0.25  0.6390476  0.9034940  0.4698392\n",
       "  2       0.010   0.50  0.6381866  0.9035226  0.4672871\n",
       "  2       0.010   1.00  0.6316705  0.9054225  0.4638840\n",
       "  2       0.010   2.00  0.6299650  0.9060484  0.4623492\n",
       "  2       0.010   4.00  0.6318750  0.9056871  0.4647004\n",
       "  2       0.010   8.00  0.6374890  0.9042527  0.4694156\n",
       "  2       0.010  16.00  0.6436855  0.9023933  0.4744221\n",
       "  2       0.010  32.00  0.6519505  0.8999859  0.4806055\n",
       "\n",
       "RMSE was used to select the optimal model using the smallest value.\n",
       "The final values used for the model were degree = 2, scale = 0.01 and C = 2."
      ]
     },
     "metadata": {},
     "output_type": "display_data"
    }
   ],
   "source": [
    "svmGrid <- expand.grid(degree = 1:2, \n",
    "                       scale = c(0.01, 0.005, 0.001), \n",
    "                       C = 2^(-2:5))\n",
    "set.seed(100)\n",
    "svmPTune <- train(x = solTrainXtrans, y = solTrainY,\n",
    "                  method = \"svmPoly\",\n",
    "                  preProc = c(\"center\", \"scale\"),\n",
    "                  tuneGrid = svmGrid,\n",
    "                  trControl = ctrl)\n",
    "\n",
    "svmPTune"
   ]
  },
  {
   "cell_type": "code",
   "execution_count": 14,
   "metadata": {
    "scrolled": true
   },
   "outputs": [
    {
     "data": {},
     "metadata": {},
     "output_type": "display_data"
    },
    {
     "data": {
      "image/png": "[encoded data removed]",
      "text/plain": [
       "plot without title"
      ]
     },
     "metadata": {},
     "output_type": "display_data"
    }
   ],
   "source": [
    "plot(svmPTune, \n",
    "     scales = list(x = list(log = 2), \n",
    "                   between = list(x = .5, y = 1)))"
   ]
  },
  {
   "cell_type": "markdown",
   "metadata": {},
   "source": [
    "## 4. K-최근접 이웃\n",
    "\n",
    "\n",
    "- 훈련 세트에서 K개의 가장 근접한 샘플을 사용해 새로운 샘플에 대해 예측\n",
    "\n",
    "\n",
    "- 새 샘플에 대해 예측된 응답값은 **K개의 이웃 응답값의 평균**이 된다.\n",
    "\n",
    "\n",
    "- 샘플간의 거리를 정의하는 다양한 거리 척도가 존재한다.\n",
    "\n",
    "    - **유클리드 거리(일반적)**, 민코프스키 거리, 맨하탄거리, 타니모토거리, 해밍거리, 코사인거리\n",
    "    \n",
    "\n",
    "- 예측 변수의 척도가 샘플 간 거리에 엄청난 영향을 미친다 (중심화, 척도화 중요)\n",
    "\n",
    "\n",
    "- 예측 변숫값이 누락된 경우\n",
    "\n",
    "    - 해당 샘플이나 해당 예측 변수 제거(비추천)\n",
    "    \n",
    "    - 결측값을 대치하는 방법(평균, 최근접이웃방법)\n",
    "    \n",
    "    \n",
    "- 최적 이웃 수를 찾는 과정\n",
    "\n",
    "    - K가 작은 경우 과적합 위험\n",
    "    \n",
    "    - K가 큰 경우 과소 적합 위험\n",
    "    \n",
    "    \n",
    "    \n",
    "- KNN의 대표 문제점\n",
    "\n",
    "    - **계산 시간 문제**\n",
    "    \n",
    "    - **지역 예측 변수 구조가 응답 변수와 연관이 없는 경우**, 예측 성능이 낮을 수 있다.\n",
    "    \n",
    "        - 연관이 없거나 잡음이 많은 예측 변수를 제거하는 것이 KNN에서 핵심 전처리 단계\n",
    "    "
   ]
  },
  {
   "cell_type": "code",
   "execution_count": 18,
   "metadata": {},
   "outputs": [
    {
     "data": {
      "text/plain": [
       "k-Nearest Neighbors \n",
       "\n",
       "951 samples\n",
       "225 predictors\n",
       "\n",
       "Pre-processing: centered (225), scaled (225) \n",
       "Resampling: Cross-Validated (10 fold) \n",
       "Summary of sample sizes: 761, 760, 761, 761, 761 \n",
       "Resampling results across tuning parameters:\n",
       "\n",
       "  k   RMSE      Rsquared   MAE      \n",
       "   1  1.249349  0.6662674  0.9090411\n",
       "   2  1.122184  0.7123104  0.8331762\n",
       "   3  1.073073  0.7321346  0.8067870\n",
       "   4  1.063817  0.7354431  0.8033362\n",
       "   5  1.050724  0.7409876  0.7968576\n",
       "   6  1.057909  0.7363694  0.8010092\n",
       "   7  1.061477  0.7342560  0.8052975\n",
       "   8  1.059673  0.7357443  0.8104108\n",
       "   9  1.061077  0.7349370  0.8139727\n",
       "  10  1.065152  0.7329029  0.8212679\n",
       "  11  1.076053  0.7268769  0.8291165\n",
       "  12  1.089116  0.7201702  0.8372358\n",
       "  13  1.095273  0.7170472  0.8437487\n",
       "  14  1.106196  0.7110973  0.8550969\n",
       "  15  1.114415  0.7067800  0.8626821\n",
       "  16  1.122283  0.7029098  0.8719824\n",
       "  17  1.123285  0.7028894  0.8734794\n",
       "  18  1.130152  0.7001038  0.8788007\n",
       "  19  1.135755  0.6970880  0.8840846\n",
       "  20  1.146207  0.6914133  0.8916344\n",
       "\n",
       "RMSE was used to select the optimal model using the smallest value.\n",
       "The final value used for the model was k = 5."
      ]
     },
     "metadata": {},
     "output_type": "display_data"
    }
   ],
   "source": [
    "knnDescr <- solTrainXtrans[, -nearZeroVar(solTrainXtrans)]\n",
    "\n",
    "set.seed(100)\n",
    "knnTune <- train(x = knnDescr, y = solTrainY,\n",
    "                 method = \"knn\",\n",
    "                 preProc = c(\"center\", \"scale\"),\n",
    "                 tuneGrid = data.frame(k = 1:20),\n",
    "                 trControl = ctrl)\n",
    "                 \n",
    "knnTune"
   ]
  },
  {
   "cell_type": "code",
   "execution_count": 19,
   "metadata": {},
   "outputs": [
    {
     "data": {},
     "metadata": {},
     "output_type": "display_data"
    },
    {
     "data": {
      "image/png": "[encoded data removed]",
      "text/plain": [
       "plot without title"
      ]
     },
     "metadata": {},
     "output_type": "display_data"
    }
   ],
   "source": [
    "win.graph()\n",
    "plot(knnTune)"
   ]
  }
 ],
 "metadata": {
  "kernelspec": {
   "display_name": "R",
   "language": "R",
   "name": "ir"
  },
  "language_info": {
   "codemirror_mode": "r",
   "file_extension": ".r",
   "mimetype": "text/x-r-source",
   "name": "R",
   "pygments_lexer": "r",
   "version": "3.4.3"
  }
 },
 "nbformat": 4,
 "nbformat_minor": 2
}
