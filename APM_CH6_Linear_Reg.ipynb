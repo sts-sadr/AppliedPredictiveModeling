{
 "cells": [
  {
   "cell_type": "markdown",
   "metadata": {},
   "source": [
    "# CHAPTER6. 선형 회귀와 이웃 모델들\n",
    "\n",
    "\n",
    "- 선형회귀, 부분최소제곱(PLS), 능형회귀(Ridge), 라쏘회귀(LASSO), 엘라스틱넷\n",
    "\n",
    "\n",
    "- 목적 : 오차제곱합이나 오차제곱합 관련 함수의 최솟값을 만드는 변수의 추정값을 찾는 것\n",
    "\n",
    "\n",
    "- 일반적인 선형 회귀에서는 최소 편향값을 가진 변수를 추정, 능형,라쏘,엘라스틱넷에서는 낮은 분산을 가진 추정값을 찾는다."
   ]
  },
  {
   "cell_type": "markdown",
   "metadata": {},
   "source": [
    "## 1. 사례 연구 : 구조적 정량 활성 관계 모델링\n",
    "\n",
    "- 화합물의 화학적 특성에 대한 연구\n",
    "\n",
    "- 1,267가지 화합물과 세 가지의 기술자 사용\n",
    "\n",
    "    - 특정 세부 화학 구조의 존재 여부에 대해 280개의 이진수로 나타낸 \"식별자\"\n",
    "    - 분자 결합 개수나 브롬 원자 개수 같은 16개의 숫자형 기술자\n",
    "    - 분자 무게나 표면적 같은 4개의 연속형 기술자"
   ]
  },
  {
   "cell_type": "code",
   "execution_count": 2,
   "metadata": {},
   "outputs": [
    {
     "name": "stderr",
     "output_type": "stream",
     "text": [
      "also installing the dependency 'CORElearn'\n",
      "\n"
     ]
    },
    {
     "name": "stdout",
     "output_type": "stream",
     "text": [
      "package 'CORElearn' successfully unpacked and MD5 sums checked\n",
      "package 'AppliedPredictiveModeling' successfully unpacked and MD5 sums checked\n",
      "\n",
      "The downloaded binary packages are in\n",
      "\tC:\\Users\\student\\AppData\\Local\\Temp\\RtmpEt9Obq\\downloaded_packages\n"
     ]
    }
   ],
   "source": [
    "install.packages(\"AppliedPredictiveModeling\")\n",
    "library(AppliedPredictiveModeling)\n",
    "data(solubility)"
   ]
  },
  {
   "cell_type": "code",
   "execution_count": 3,
   "metadata": {},
   "outputs": [],
   "source": [
    "library(lattice)"
   ]
  },
  {
   "cell_type": "markdown",
   "metadata": {},
   "source": [
    "### 데이터에 대한 몇가지 Plot 출력\n",
    "\n",
    "- 분자 무게가 증가할수록 용해도는 일정하게 감소한다"
   ]
  },
  {
   "cell_type": "code",
   "execution_count": 4,
   "metadata": {},
   "outputs": [
    {
     "data": {},
     "metadata": {},
     "output_type": "display_data"
    },
    {
     "data": {
      "image/png": "[encoded data removed]",
      "text/plain": [
       "plot without title"
      ]
     },
     "metadata": {},
     "output_type": "display_data"
    }
   ],
   "source": [
    "xyplot(solTrainY ~ solTrainX$MolWeight, type = c(\"p\", \"g\"),\n",
    "       ylab = \"Solubility (log)\",\n",
    "       main = \"(a)\",\n",
    "       xlab = \"Molecular Weight\")\n"
   ]
  },
  {
   "cell_type": "markdown",
   "metadata": {},
   "source": [
    "- 분자에 특정 세부 구조가 없는 경우, 용해도가 약간 높다."
   ]
  },
  {
   "cell_type": "code",
   "execution_count": 6,
   "metadata": {},
   "outputs": [
    {
     "data": {},
     "metadata": {},
     "output_type": "display_data"
    },
    {
     "data": {
      "image/png": "[encoded data removed]",
      "text/plain": [
       "plot without title"
      ]
     },
     "metadata": {},
     "output_type": "display_data"
    }
   ],
   "source": [
    "bwplot(solTrainY ~ ifelse(solTrainX[,100] == 1, \n",
    "                          \"structure present\", \n",
    "                          \"structure absent\"),\n",
    "       ylab = \"Solubility (log)\",\n",
    "       main = \"(b)\",\n",
    "       horizontal = FALSE)\n"
   ]
  },
  {
   "cell_type": "markdown",
   "metadata": {},
   "source": [
    "- 용해도 데이터 세트의 변형된 연속형 변수의 산점도"
   ]
  },
  {
   "cell_type": "code",
   "execution_count": 7,
   "metadata": {
    "scrolled": false
   },
   "outputs": [
    {
     "name": "stderr",
     "output_type": "stream",
     "text": [
      "Loading required package: ggplot2\n",
      "Warning message in simpleLoess(y, x, w, span, degree = degree, parametric = FALSE, :\n",
      "\"pseudoinverse used at -0.0059402\"Warning message in simpleLoess(y, x, w, span, degree = degree, parametric = FALSE, :\n",
      "\"neighborhood radius 0.57302\"Warning message in simpleLoess(y, x, w, span, degree = degree, parametric = FALSE, :\n",
      "\"reciprocal condition number  0\"Warning message in simpleLoess(y, x, w, span, degree = degree, parametric = FALSE, :\n",
      "\"There are other near singularities as well. 0.32158\"Warning message in simpleLoess(y, x, w, span, degree = degree, parametric = FALSE, :\n",
      "\"pseudoinverse used at -0.0059402\"Warning message in simpleLoess(y, x, w, span, degree = degree, parametric = FALSE, :\n",
      "\"neighborhood radius 0.57302\"Warning message in simpleLoess(y, x, w, span, degree = degree, parametric = FALSE, :\n",
      "\"reciprocal condition number  0\"Warning message in simpleLoess(y, x, w, span, degree = degree, parametric = FALSE, :\n",
      "\"There are other near singularities as well. 0.32158\"Warning message in simpleLoess(y, x, w, span, degree = degree, parametric = FALSE, :\n",
      "\"pseudoinverse used at -0.0059402\"Warning message in simpleLoess(y, x, w, span, degree = degree, parametric = FALSE, :\n",
      "\"neighborhood radius 0.57302\"Warning message in simpleLoess(y, x, w, span, degree = degree, parametric = FALSE, :\n",
      "\"reciprocal condition number  0\"Warning message in simpleLoess(y, x, w, span, degree = degree, parametric = FALSE, :\n",
      "\"There are other near singularities as well. 0.32158\"Warning message in simpleLoess(y, x, w, span, degree = degree, parametric = FALSE, :\n",
      "\"pseudoinverse used at -0.0059402\"Warning message in simpleLoess(y, x, w, span, degree = degree, parametric = FALSE, :\n",
      "\"neighborhood radius 0.57302\"Warning message in simpleLoess(y, x, w, span, degree = degree, parametric = FALSE, :\n",
      "\"reciprocal condition number  0\"Warning message in simpleLoess(y, x, w, span, degree = degree, parametric = FALSE, :\n",
      "\"There are other near singularities as well. 0.32158\"Warning message in simpleLoess(y, x, w, span, degree = degree, parametric = FALSE, :\n",
      "\"pseudoinverse used at -0.0059402\"Warning message in simpleLoess(y, x, w, span, degree = degree, parametric = FALSE, :\n",
      "\"neighborhood radius 0.57302\"Warning message in simpleLoess(y, x, w, span, degree = degree, parametric = FALSE, :\n",
      "\"reciprocal condition number  0\"Warning message in simpleLoess(y, x, w, span, degree = degree, parametric = FALSE, :\n",
      "\"There are other near singularities as well. 0.32158\"Warning message in simpleLoess(y, x, w, span, degree = degree, parametric = FALSE, :\n",
      "\"pseudoinverse used at -0.0035397\"Warning message in simpleLoess(y, x, w, span, degree = degree, parametric = FALSE, :\n",
      "\"neighborhood radius 0.46037\"Warning message in simpleLoess(y, x, w, span, degree = degree, parametric = FALSE, :\n",
      "\"reciprocal condition number  0\"Warning message in simpleLoess(y, x, w, span, degree = degree, parametric = FALSE, :\n",
      "\"There are other near singularities as well. 0.20869\"Warning message in simpleLoess(y, x, w, span, degree = degree, parametric = FALSE, :\n",
      "\"pseudoinverse used at -0.0035397\"Warning message in simpleLoess(y, x, w, span, degree = degree, parametric = FALSE, :\n",
      "\"neighborhood radius 0.46037\"Warning message in simpleLoess(y, x, w, span, degree = degree, parametric = FALSE, :\n",
      "\"reciprocal condition number  0\"Warning message in simpleLoess(y, x, w, span, degree = degree, parametric = FALSE, :\n",
      "\"There are other near singularities as well. 0.20869\"Warning message in simpleLoess(y, x, w, span, degree = degree, parametric = FALSE, :\n",
      "\"pseudoinverse used at -0.0035397\"Warning message in simpleLoess(y, x, w, span, degree = degree, parametric = FALSE, :\n",
      "\"neighborhood radius 0.46037\"Warning message in simpleLoess(y, x, w, span, degree = degree, parametric = FALSE, :\n",
      "\"reciprocal condition number  0\"Warning message in simpleLoess(y, x, w, span, degree = degree, parametric = FALSE, :\n",
      "\"There are other near singularities as well. 0.20869\"Warning message in simpleLoess(y, x, w, span, degree = degree, parametric = FALSE, :\n",
      "\"pseudoinverse used at -0.0035397\"Warning message in simpleLoess(y, x, w, span, degree = degree, parametric = FALSE, :\n",
      "\"neighborhood radius 0.46037\"Warning message in simpleLoess(y, x, w, span, degree = degree, parametric = FALSE, :\n",
      "\"reciprocal condition number  0\"Warning message in simpleLoess(y, x, w, span, degree = degree, parametric = FALSE, :\n",
      "\"There are other near singularities as well. 0.20869\"Warning message in simpleLoess(y, x, w, span, degree = degree, parametric = FALSE, :\n",
      "\"pseudoinverse used at -0.0035397\"Warning message in simpleLoess(y, x, w, span, degree = degree, parametric = FALSE, :\n",
      "\"neighborhood radius 0.46037\"Warning message in simpleLoess(y, x, w, span, degree = degree, parametric = FALSE, :\n",
      "\"reciprocal condition number  0\"Warning message in simpleLoess(y, x, w, span, degree = degree, parametric = FALSE, :\n",
      "\"There are other near singularities as well. 0.20869\"Warning message in simpleLoess(y, x, w, span, degree = degree, parametric = FALSE, :\n",
      "\"at  -0.0024\"Warning message in simpleLoess(y, x, w, span, degree = degree, parametric = FALSE, :\n",
      "\"radius  5.76e-006\"Warning message in simpleLoess(y, x, w, span, degree = degree, parametric = FALSE, :\n",
      "\"all data on boundary of neighborhood. make span bigger\"Warning message in simpleLoess(y, x, w, span, degree = degree, parametric = FALSE, :\n",
      "\"pseudoinverse used at -0.0024\"Warning message in simpleLoess(y, x, w, span, degree = degree, parametric = FALSE, :\n",
      "\"neighborhood radius 0.0024\"Warning message in simpleLoess(y, x, w, span, degree = degree, parametric = FALSE, :\n",
      "\"reciprocal condition number  1\"Warning message in simpleLoess(y, x, w, span, degree = degree, parametric = FALSE, :\n",
      "\"zero-width neighborhood. make span bigger\"Warning message in simpleLoess(y, x, w, span, degree = degree, parametric = FALSE, :\n",
      "\"at  -0.0024\"Warning message in simpleLoess(y, x, w, span, degree = degree, parametric = FALSE, :\n",
      "\"radius  5.76e-006\"Warning message in simpleLoess(y, x, w, span, degree = degree, parametric = FALSE, :\n",
      "\"all data on boundary of neighborhood. make span bigger\"Warning message in simpleLoess(y, x, w, span, degree = degree, parametric = FALSE, :\n",
      "\"pseudoinverse used at -0.0024\"Warning message in simpleLoess(y, x, w, span, degree = degree, parametric = FALSE, :\n",
      "\"neighborhood radius 0.0024\"Warning message in simpleLoess(y, x, w, span, degree = degree, parametric = FALSE, :\n",
      "\"reciprocal condition number  1\"Warning message in simpleLoess(y, x, w, span, degree = degree, parametric = FALSE, :\n",
      "\"zero-width neighborhood. make span bigger\"Warning message in simpleLoess(y, x, w, span, degree = degree, parametric = FALSE, :\n",
      "\"at  -0.0024\"Warning message in simpleLoess(y, x, w, span, degree = degree, parametric = FALSE, :\n",
      "\"radius  5.76e-006\"Warning message in simpleLoess(y, x, w, span, degree = degree, parametric = FALSE, :\n",
      "\"all data on boundary of neighborhood. make span bigger\"Warning message in simpleLoess(y, x, w, span, degree = degree, parametric = FALSE, :\n",
      "\"pseudoinverse used at -0.0024\"Warning message in simpleLoess(y, x, w, span, degree = degree, parametric = FALSE, :\n",
      "\"neighborhood radius 0.0024\"Warning message in simpleLoess(y, x, w, span, degree = degree, parametric = FALSE, :\n",
      "\"reciprocal condition number  1\"Warning message in simpleLoess(y, x, w, span, degree = degree, parametric = FALSE, :\n",
      "\"zero-width neighborhood. make span bigger\"Warning message in simpleLoess(y, x, w, span, degree = degree, parametric = FALSE, :\n",
      "\"at  -0.0024\"Warning message in simpleLoess(y, x, w, span, degree = degree, parametric = FALSE, :\n",
      "\"radius  5.76e-006\"Warning message in simpleLoess(y, x, w, span, degree = degree, parametric = FALSE, :\n",
      "\"all data on boundary of neighborhood. make span bigger\"Warning message in simpleLoess(y, x, w, span, degree = degree, parametric = FALSE, :\n",
      "\"pseudoinverse used at -0.0024\"Warning message in simpleLoess(y, x, w, span, degree = degree, parametric = FALSE, :\n",
      "\"neighborhood radius 0.0024\"Warning message in simpleLoess(y, x, w, span, degree = degree, parametric = FALSE, :\n",
      "\"reciprocal condition number  1\"Warning message in simpleLoess(y, x, w, span, degree = degree, parametric = FALSE, :\n",
      "\"zero-width neighborhood. make span bigger\"Warning message in simpleLoess(y, x, w, span, degree = degree, parametric = FALSE, :\n"
     ]
    },
    {
     "name": "stderr",
     "output_type": "stream",
     "text": [
      "\"at  -0.0024\"Warning message in simpleLoess(y, x, w, span, degree = degree, parametric = FALSE, :\n",
      "\"radius  5.76e-006\"Warning message in simpleLoess(y, x, w, span, degree = degree, parametric = FALSE, :\n",
      "\"all data on boundary of neighborhood. make span bigger\"Warning message in simpleLoess(y, x, w, span, degree = degree, parametric = FALSE, :\n",
      "\"pseudoinverse used at -0.0024\"Warning message in simpleLoess(y, x, w, span, degree = degree, parametric = FALSE, :\n",
      "\"neighborhood radius 0.0024\"Warning message in simpleLoess(y, x, w, span, degree = degree, parametric = FALSE, :\n",
      "\"reciprocal condition number  1\"Warning message in simpleLoess(y, x, w, span, degree = degree, parametric = FALSE, :\n",
      "\"zero-width neighborhood. make span bigger\"Warning message in simpleLoess(y, x, w, span, degree = degree, parametric = FALSE, :\n",
      "\"at  -0.0024793\"Warning message in simpleLoess(y, x, w, span, degree = degree, parametric = FALSE, :\n",
      "\"radius  6.1471e-006\"Warning message in simpleLoess(y, x, w, span, degree = degree, parametric = FALSE, :\n",
      "\"all data on boundary of neighborhood. make span bigger\"Warning message in simpleLoess(y, x, w, span, degree = degree, parametric = FALSE, :\n",
      "\"pseudoinverse used at -0.0024793\"Warning message in simpleLoess(y, x, w, span, degree = degree, parametric = FALSE, :\n",
      "\"neighborhood radius 0.0024793\"Warning message in simpleLoess(y, x, w, span, degree = degree, parametric = FALSE, :\n",
      "\"reciprocal condition number  1\"Warning message in simpleLoess(y, x, w, span, degree = degree, parametric = FALSE, :\n",
      "\"zero-width neighborhood. make span bigger\"Warning message in simpleLoess(y, x, w, span, degree = degree, parametric = FALSE, :\n",
      "\"at  -0.0024793\"Warning message in simpleLoess(y, x, w, span, degree = degree, parametric = FALSE, :\n",
      "\"radius  6.1471e-006\"Warning message in simpleLoess(y, x, w, span, degree = degree, parametric = FALSE, :\n",
      "\"all data on boundary of neighborhood. make span bigger\"Warning message in simpleLoess(y, x, w, span, degree = degree, parametric = FALSE, :\n",
      "\"pseudoinverse used at -0.0024793\"Warning message in simpleLoess(y, x, w, span, degree = degree, parametric = FALSE, :\n",
      "\"neighborhood radius 0.0024793\"Warning message in simpleLoess(y, x, w, span, degree = degree, parametric = FALSE, :\n",
      "\"reciprocal condition number  1\"Warning message in simpleLoess(y, x, w, span, degree = degree, parametric = FALSE, :\n",
      "\"zero-width neighborhood. make span bigger\"Warning message in simpleLoess(y, x, w, span, degree = degree, parametric = FALSE, :\n",
      "\"at  -0.0024793\"Warning message in simpleLoess(y, x, w, span, degree = degree, parametric = FALSE, :\n",
      "\"radius  6.1471e-006\"Warning message in simpleLoess(y, x, w, span, degree = degree, parametric = FALSE, :\n",
      "\"all data on boundary of neighborhood. make span bigger\"Warning message in simpleLoess(y, x, w, span, degree = degree, parametric = FALSE, :\n",
      "\"pseudoinverse used at -0.0024793\"Warning message in simpleLoess(y, x, w, span, degree = degree, parametric = FALSE, :\n",
      "\"neighborhood radius 0.0024793\"Warning message in simpleLoess(y, x, w, span, degree = degree, parametric = FALSE, :\n",
      "\"reciprocal condition number  1\"Warning message in simpleLoess(y, x, w, span, degree = degree, parametric = FALSE, :\n",
      "\"zero-width neighborhood. make span bigger\"Warning message in simpleLoess(y, x, w, span, degree = degree, parametric = FALSE, :\n",
      "\"at  -0.0024793\"Warning message in simpleLoess(y, x, w, span, degree = degree, parametric = FALSE, :\n",
      "\"radius  6.1471e-006\"Warning message in simpleLoess(y, x, w, span, degree = degree, parametric = FALSE, :\n",
      "\"all data on boundary of neighborhood. make span bigger\"Warning message in simpleLoess(y, x, w, span, degree = degree, parametric = FALSE, :\n",
      "\"pseudoinverse used at -0.0024793\"Warning message in simpleLoess(y, x, w, span, degree = degree, parametric = FALSE, :\n",
      "\"neighborhood radius 0.0024793\"Warning message in simpleLoess(y, x, w, span, degree = degree, parametric = FALSE, :\n",
      "\"reciprocal condition number  1\"Warning message in simpleLoess(y, x, w, span, degree = degree, parametric = FALSE, :\n",
      "\"zero-width neighborhood. make span bigger\"Warning message in simpleLoess(y, x, w, span, degree = degree, parametric = FALSE, :\n",
      "\"at  -0.0024793\"Warning message in simpleLoess(y, x, w, span, degree = degree, parametric = FALSE, :\n",
      "\"radius  6.1471e-006\"Warning message in simpleLoess(y, x, w, span, degree = degree, parametric = FALSE, :\n",
      "\"all data on boundary of neighborhood. make span bigger\"Warning message in simpleLoess(y, x, w, span, degree = degree, parametric = FALSE, :\n",
      "\"pseudoinverse used at -0.0024793\"Warning message in simpleLoess(y, x, w, span, degree = degree, parametric = FALSE, :\n",
      "\"neighborhood radius 0.0024793\"Warning message in simpleLoess(y, x, w, span, degree = degree, parametric = FALSE, :\n",
      "\"reciprocal condition number  1\"Warning message in simpleLoess(y, x, w, span, degree = degree, parametric = FALSE, :\n",
      "\"zero-width neighborhood. make span bigger\"Warning message in simpleLoess(y, x, w, span, degree = degree, parametric = FALSE, :\n",
      "\"at  -0.0024793\"Warning message in simpleLoess(y, x, w, span, degree = degree, parametric = FALSE, :\n",
      "\"radius  6.1471e-006\"Warning message in simpleLoess(y, x, w, span, degree = degree, parametric = FALSE, :\n",
      "\"all data on boundary of neighborhood. make span bigger\"Warning message in simpleLoess(y, x, w, span, degree = degree, parametric = FALSE, :\n",
      "\"pseudoinverse used at -0.0024793\"Warning message in simpleLoess(y, x, w, span, degree = degree, parametric = FALSE, :\n",
      "\"neighborhood radius 0.0024793\"Warning message in simpleLoess(y, x, w, span, degree = degree, parametric = FALSE, :\n",
      "\"reciprocal condition number  1\"Warning message in simpleLoess(y, x, w, span, degree = degree, parametric = FALSE, :\n",
      "\"zero-width neighborhood. make span bigger\"Warning message in simpleLoess(y, x, w, span, degree = degree, parametric = FALSE, :\n",
      "\"at  -0.0024793\"Warning message in simpleLoess(y, x, w, span, degree = degree, parametric = FALSE, :\n",
      "\"radius  6.1471e-006\"Warning message in simpleLoess(y, x, w, span, degree = degree, parametric = FALSE, :\n",
      "\"all data on boundary of neighborhood. make span bigger\"Warning message in simpleLoess(y, x, w, span, degree = degree, parametric = FALSE, :\n",
      "\"pseudoinverse used at -0.0024793\"Warning message in simpleLoess(y, x, w, span, degree = degree, parametric = FALSE, :\n",
      "\"neighborhood radius 0.0024793\"Warning message in simpleLoess(y, x, w, span, degree = degree, parametric = FALSE, :\n",
      "\"reciprocal condition number  1\"Warning message in simpleLoess(y, x, w, span, degree = degree, parametric = FALSE, :\n",
      "\"zero-width neighborhood. make span bigger\"Warning message in simpleLoess(y, x, w, span, degree = degree, parametric = FALSE, :\n",
      "\"at  -0.0024793\"Warning message in simpleLoess(y, x, w, span, degree = degree, parametric = FALSE, :\n",
      "\"radius  6.1471e-006\"Warning message in simpleLoess(y, x, w, span, degree = degree, parametric = FALSE, :\n",
      "\"all data on boundary of neighborhood. make span bigger\"Warning message in simpleLoess(y, x, w, span, degree = degree, parametric = FALSE, :\n",
      "\"pseudoinverse used at -0.0024793\"Warning message in simpleLoess(y, x, w, span, degree = degree, parametric = FALSE, :\n",
      "\"neighborhood radius 0.0024793\"Warning message in simpleLoess(y, x, w, span, degree = degree, parametric = FALSE, :\n",
      "\"reciprocal condition number  1\"Warning message in simpleLoess(y, x, w, span, degree = degree, parametric = FALSE, :\n",
      "\"zero-width neighborhood. make span bigger\"Warning message in simpleLoess(y, x, w, span, degree = degree, parametric = FALSE, :\n",
      "\"at  -0.0024793\"Warning message in simpleLoess(y, x, w, span, degree = degree, parametric = FALSE, :\n",
      "\"radius  6.1471e-006\"Warning message in simpleLoess(y, x, w, span, degree = degree, parametric = FALSE, :\n",
      "\"all data on boundary of neighborhood. make span bigger\"Warning message in simpleLoess(y, x, w, span, degree = degree, parametric = FALSE, :\n",
      "\"pseudoinverse used at -0.0024793\"Warning message in simpleLoess(y, x, w, span, degree = degree, parametric = FALSE, :\n",
      "\"neighborhood radius 0.0024793\"Warning message in simpleLoess(y, x, w, span, degree = degree, parametric = FALSE, :\n",
      "\"reciprocal condition number  1\"Warning message in simpleLoess(y, x, w, span, degree = degree, parametric = FALSE, :\n",
      "\"zero-width neighborhood. make span bigger\"Warning message in simpleLoess(y, x, w, span, degree = degree, parametric = FALSE, :\n"
     ]
    },
    {
     "name": "stderr",
     "output_type": "stream",
     "text": [
      "\"at  -0.0024793\"Warning message in simpleLoess(y, x, w, span, degree = degree, parametric = FALSE, :\n",
      "\"radius  6.1471e-006\"Warning message in simpleLoess(y, x, w, span, degree = degree, parametric = FALSE, :\n",
      "\"all data on boundary of neighborhood. make span bigger\"Warning message in simpleLoess(y, x, w, span, degree = degree, parametric = FALSE, :\n",
      "\"pseudoinverse used at -0.0024793\"Warning message in simpleLoess(y, x, w, span, degree = degree, parametric = FALSE, :\n",
      "\"neighborhood radius 0.0024793\"Warning message in simpleLoess(y, x, w, span, degree = degree, parametric = FALSE, :\n",
      "\"reciprocal condition number  1\"Warning message in simpleLoess(y, x, w, span, degree = degree, parametric = FALSE, :\n",
      "\"zero-width neighborhood. make span bigger\""
     ]
    },
    {
     "data": {},
     "metadata": {},
     "output_type": "display_data"
    },
    {
     "data": {
      "image/png": "[encoded data removed]",
      "text/plain": [
       "plot without title"
      ]
     },
     "metadata": {},
     "output_type": "display_data"
    }
   ],
   "source": [
    "notFingerprints <- grep(\"FP\", names(solTrainXtrans))\n",
    "\n",
    "library(caret)\n",
    "featurePlot(solTrainXtrans[, -notFingerprints],\n",
    "            solTrainY,\n",
    "            between = list(x = 1, y = 1),\n",
    "            type = c(\"g\", \"p\", \"smooth\"),\n",
    "            labels = rep(\"\", 2))"
   ]
  },
  {
   "cell_type": "markdown",
   "metadata": {},
   "source": [
    "- 변환된 연속형 용해도 예측 변수의 변수 간 상관관계"
   ]
  },
  {
   "cell_type": "code",
   "execution_count": 9,
   "metadata": {},
   "outputs": [
    {
     "name": "stdout",
     "output_type": "stream",
     "text": [
      "package 'corrplot' successfully unpacked and MD5 sums checked\n",
      "\n",
      "The downloaded binary packages are in\n",
      "\tC:\\Users\\student\\AppData\\Local\\Temp\\RtmpEt9Obq\\downloaded_packages\n"
     ]
    }
   ],
   "source": [
    "install.packages(\"corrplot\")\n",
    "library(corrplot)"
   ]
  },
  {
   "cell_type": "code",
   "execution_count": 10,
   "metadata": {},
   "outputs": [
    {
     "data": {
      "image/png": "[encoded data removed]",
      "text/plain": [
       "Plot with title \"\""
      ]
     },
     "metadata": {},
     "output_type": "display_data"
    }
   ],
   "source": [
    "corrplot::corrplot(cor(solTrainXtrans[, -notFingerprints]), \n",
    "                   order = \"hclust\", \n",
    "                   tl.cex = .8)\n"
   ]
  },
  {
   "cell_type": "markdown",
   "metadata": {},
   "source": [
    "## 2. 선형 회귀\n",
    "\n",
    "- 관측값과 예측 응답값 간의 오차 제곱합(SSE)을 최소화하는 평면을 찾는 것\n",
    "\n",
    "\n",
    "- 계수를 해석할 수 있는지 여부는 모델링의 도구로서 매우 유용하다.\n",
    "\n",
    "\n",
    "- 서로 상관관계가 있는 예측 변수를 제거해 예측 변수의 수를 감소한다.\n",
    "\n",
    "\n",
    "- 다중공선성을 판단할때는 분산팽창인수를 사용한다.\n",
    "\n",
    "\n",
    "- 예측 변수의 수가 관측 수보다 크다면 PCA 처리가 하나의 처방이 될 수 있다.\n",
    "\n",
    "\n",
    "- PLS, 능형회귀, 라소, 엘라스틱 넷 같이 인수 추정을 감소하는 방식도 가능하다.\n",
    "\n",
    "\n",
    "- 결과로 나온 변수는 선형관계이므로 비선형 구조의 데이터에서는 성향을 파악할 수 없다.\n",
    "\n",
    "\n",
    "- 대부분의 데이터가 포함된 전체 추세로부터 떨어져 있는 관측값을 좇아가려는 경향이 있다. \n",
    "\n",
    "    - 로버스트 회귀\n",
    "    - SSE 대신 이상값에 덜 민감한 다른 지표 사용\n",
    "    \n",
    "- 원데이터 세트만이 아니라 모델 훈련과 평가에 사용된 데이터의 부분 집합을 갖고 사용할 때도 예측 변수가 관측치보다 크게 되선 안된다.\n",
    "\n",
    "\n",
    "- 공선성을 해결하기 위해 변수를 제거하는 작업을 하지만, 특정 변수를 수동으로 제거하는 것이 쉽지 않다\n",
    "\n",
    "    - 공선성에 영향을 받지 않을 수 있는 모델을 사용하는 것이 낫다\n",
    "    \n",
    "- 두 변수 간 강한 상관관계를 갖고 있는 예측 변수를 정의하고, 두 변수 간 상관관계의 절대값이 미리 정해 놓은 특정 정도를 넘어가는 경우 한쪽을 제거한다."
   ]
  },
  {
   "cell_type": "code",
   "execution_count": 11,
   "metadata": {},
   "outputs": [],
   "source": [
    "set.seed(100)\n",
    "indx <- createFolds(solTrainY, returnTrain = TRUE)\n",
    "ctrl <- trainControl(method = \"cv\", index = indx)"
   ]
  },
  {
   "cell_type": "code",
   "execution_count": 12,
   "metadata": {},
   "outputs": [
    {
     "name": "stderr",
     "output_type": "stream",
     "text": [
      "Warning message in predict.lm(modelFit, newdata):\n",
      "\"prediction from a rank-deficient fit may be misleading\"Warning message in predict.lm(modelFit, newdata):\n",
      "\"prediction from a rank-deficient fit may be misleading\""
     ]
    },
    {
     "data": {
      "text/plain": [
       "Linear Regression \n",
       "\n",
       "951 samples\n",
       "228 predictors\n",
       "\n",
       "No pre-processing\n",
       "Resampling: Cross-Validated (10 fold) \n",
       "Summary of sample sizes: 856, 857, 855, 856, 856, 855, ... \n",
       "Resampling results:\n",
       "\n",
       "  RMSE       Rsquared   MAE      \n",
       "  0.7210355  0.8768359  0.5401102\n",
       "\n",
       "Tuning parameter 'intercept' was held constant at a value of TRUE"
      ]
     },
     "metadata": {},
     "output_type": "display_data"
    }
   ],
   "source": [
    "set.seed(100)\n",
    "lmTune0 <- train(x = solTrainXtrans, y = solTrainY,\n",
    "                method = \"lm\",\n",
    "                 trControl = ctrl)\n",
    "\n",
    "lmTune0                 "
   ]
  },
  {
   "cell_type": "markdown",
   "metadata": {},
   "source": [
    "- Correlation이 높은 변수를 제거하기 위한 Filtering 작업"
   ]
  },
  {
   "cell_type": "code",
   "execution_count": 13,
   "metadata": {},
   "outputs": [
    {
     "data": {
      "text/plain": [
       "Linear Regression \n",
       "\n",
       "951 samples\n",
       "190 predictors\n",
       "\n",
       "No pre-processing\n",
       "Resampling: Cross-Validated (10 fold) \n",
       "Summary of sample sizes: 856, 857, 855, 856, 856, 855, ... \n",
       "Resampling results:\n",
       "\n",
       "  RMSE       Rsquared   MAE      \n",
       "  0.7113935  0.8793396  0.5410503\n",
       "\n",
       "Tuning parameter 'intercept' was held constant at a value of TRUE"
      ]
     },
     "metadata": {},
     "output_type": "display_data"
    }
   ],
   "source": [
    "tooHigh <- findCorrelation(cor(solTrainXtrans), .9)\n",
    "trainXfiltered <- solTrainXtrans[, -tooHigh]\n",
    "testXfiltered  <-  solTestXtrans[, -tooHigh]\n",
    "\n",
    "set.seed(100)\n",
    "lmTune <- train(x = trainXfiltered, y = solTrainY,\n",
    "                method = \"lm\",\n",
    "                trControl = ctrl)\n",
    "\n",
    "lmTune"
   ]
  },
  {
   "cell_type": "code",
   "execution_count": 14,
   "metadata": {},
   "outputs": [],
   "source": [
    "testResults <- data.frame(obs = solTestY,\n",
    "                          Linear_Regression = predict(lmTune, testXfiltered))"
   ]
  },
  {
   "cell_type": "markdown",
   "metadata": {},
   "source": [
    "## 3. 부분 최소 제곱\n",
    "\n",
    "- 예측 변수 간의 상관관계가 높은 경우\n",
    "\n",
    "    - 높은 상관관계의 예측 변수를 제거\n",
    "                \n",
    "    - PCA 적용(트레이드 오프 : 새 변수를 실제로 이해하기 힘들다)\n",
    "        \n",
    "    - PCR(Principal Component Regression) : PCA를 통한 차원 축소로 (최대 변동성을 가진) 새로운 예측 변수를 생성해 회귀 모형 생성    \n",
    "    \n",
    "    - PCA는 성분 선택에 있어서 응답 변수에 대해 어떤 측면도 고려하지 않는다.\n",
    "        \n",
    "    - PCR은 변동성이 응답 변수와 연관이 있는 경우 유용하다\n",
    "    \n",
    "    - 상관 관계가 있는 예측 변수가 있고, 선형 회귀 형태의 해답이 필요한 경우에는 PLS(부분최소제곱)이 유용하다.\n",
    "    \n",
    "    - PCA 선형 조합이 예측 변수 공간의 변동성을 최대로 하는 값을 선택한다면, 예측 변수의 PLS 선형 조합은 응답 변수의 공분산을 최대로 하는 값을 고르게 된다. \n",
    "    \n",
    "    - PLS는 예측 변수 공간 차원 축소, 예측 변수, 응답 변수의 관계라는 목적간의 합의점을 찾아야 한다.\n",
    "    \n",
    "    - PLS는 **지도차원축소 과정**으로 볼 수 있고, PCR은 **비지도 과정**으로 볼 수 있다.\n",
    "    \n",
    "    - PLS는 응답 변수와의 회귀를 위한 최적의 예측 공간 차원 축소를 구한다."
   ]
  },
  {
   "cell_type": "markdown",
   "metadata": {},
   "source": [
    "- PLS 사용했을 때 10개 성분일 때 최소 RMSE(0.682)"
   ]
  },
  {
   "cell_type": "code",
   "execution_count": 17,
   "metadata": {
    "scrolled": true
   },
   "outputs": [
    {
     "name": "stdout",
     "output_type": "stream",
     "text": [
      "package 'pls' successfully unpacked and MD5 sums checked\n",
      "\n",
      "The downloaded binary packages are in\n",
      "\tC:\\Users\\student\\AppData\\Local\\Temp\\RtmpEt9Obq\\downloaded_packages\n"
     ]
    },
    {
     "data": {
      "text/plain": [
       "Partial Least Squares \n",
       "\n",
       "951 samples\n",
       "228 predictors\n",
       "\n",
       "No pre-processing\n",
       "Resampling: Cross-Validated (10 fold) \n",
       "Summary of sample sizes: 856, 857, 855, 856, 856, 855, ... \n",
       "Resampling results across tuning parameters:\n",
       "\n",
       "  ncomp  RMSE       Rsquared   MAE      \n",
       "   1     1.7543811  0.2630495  1.4358231\n",
       "   2     1.2720647  0.6128490  0.9889055\n",
       "   3     1.0373646  0.7432147  0.8052678\n",
       "   4     0.8370618  0.8317217  0.6386385\n",
       "   5     0.7458318  0.8660461  0.5714998\n",
       "   6     0.7106591  0.8779019  0.5490473\n",
       "   7     0.6921293  0.8841448  0.5323473\n",
       "   8     0.6908481  0.8851647  0.5315022\n",
       "   9     0.6828771  0.8877056  0.5243122\n",
       "  10     0.6824521  0.8879195  0.5239849\n",
       "  11     0.6826719  0.8878955  0.5259022\n",
       "  12     0.6847473  0.8872488  0.5197999\n",
       "  13     0.6836698  0.8875568  0.5234800\n",
       "  14     0.6856134  0.8871389  0.5237689\n",
       "  15     0.6867190  0.8869351  0.5245770\n",
       "  16     0.6860797  0.8872705  0.5244890\n",
       "  17     0.6881636  0.8866078  0.5245726\n",
       "  18     0.6926077  0.8853743  0.5256957\n",
       "  19     0.6943936  0.8848611  0.5280377\n",
       "  20     0.6977396  0.8837453  0.5328900\n",
       "\n",
       "RMSE was used to select the optimal model using the smallest value.\n",
       "The final value used for the model was ncomp = 10."
      ]
     },
     "metadata": {},
     "output_type": "display_data"
    }
   ],
   "source": [
    "install.packages(\"pls\")\n",
    "\n",
    "set.seed(100)\n",
    "plsTune <- train(x = solTrainXtrans, y = solTrainY,\n",
    "                 method = \"pls\",\n",
    "                 tuneGrid = expand.grid(ncomp = 1:20),\n",
    "                 trControl = ctrl)\n",
    "plsTune"
   ]
  },
  {
   "cell_type": "markdown",
   "metadata": {},
   "source": [
    "- PCR 사용했을 때 35개의 성분일 때 최소 RMSE(0.73)"
   ]
  },
  {
   "cell_type": "code",
   "execution_count": 18,
   "metadata": {},
   "outputs": [
    {
     "data": {
      "text/plain": [
       "Principal Component Analysis \n",
       "\n",
       "951 samples\n",
       "228 predictors\n",
       "\n",
       "No pre-processing\n",
       "Resampling: Cross-Validated (10 fold) \n",
       "Summary of sample sizes: 856, 857, 855, 856, 856, 855, ... \n",
       "Resampling results across tuning parameters:\n",
       "\n",
       "  ncomp  RMSE       Rsquared    MAE      \n",
       "   1     1.9778920  0.06590758  1.5840621\n",
       "   2     1.6379400  0.36202127  1.2815335\n",
       "   3     1.3655645  0.55546442  1.0612359\n",
       "   4     1.3715028  0.55157507  1.0642859\n",
       "   5     1.3415864  0.57099834  1.0311280\n",
       "   6     1.2081745  0.64973828  0.9246561\n",
       "   7     1.1818622  0.66578017  0.8975892\n",
       "   8     1.1452119  0.68759737  0.8767988\n",
       "   9     1.0495852  0.73655117  0.8203592\n",
       "  10     1.0063822  0.75723962  0.7797613\n",
       "  11     0.9723334  0.77443568  0.7486139\n",
       "  12     0.9692845  0.77566291  0.7467677\n",
       "  13     0.9526792  0.78316647  0.7388066\n",
       "  14     0.9396590  0.78895459  0.7303651\n",
       "  15     0.9419390  0.78796957  0.7324749\n",
       "  16     0.8695211  0.81842614  0.6643545\n",
       "  17     0.8699482  0.81825536  0.6641582\n",
       "  18     0.8719274  0.81723654  0.6655110\n",
       "  19     0.8695726  0.81824845  0.6636871\n",
       "  20     0.8682556  0.81894961  0.6618263\n",
       "  21     0.8096228  0.84189134  0.6204819\n",
       "  22     0.8122517  0.84082141  0.6234393\n",
       "  23     0.8093641  0.84200427  0.6205354\n",
       "  24     0.8096163  0.84210474  0.6219420\n",
       "  25     0.8095766  0.84208293  0.6213768\n",
       "  26     0.8049366  0.84421798  0.6187902\n",
       "  27     0.8039803  0.84465744  0.6166634\n",
       "  28     0.8056953  0.84397657  0.6177999\n",
       "  29     0.7863312  0.85146390  0.6050769\n",
       "  30     0.7819408  0.85271068  0.6021453\n",
       "  31     0.7795830  0.85355495  0.6019523\n",
       "  32     0.7757032  0.85503975  0.6024722\n",
       "  33     0.7395733  0.86853408  0.5707936\n",
       "  34     0.7327021  0.87065692  0.5661431\n",
       "  35     0.7307134  0.87142813  0.5628155\n",
       "\n",
       "RMSE was used to select the optimal model using the smallest value.\n",
       "The final value used for the model was ncomp = 35."
      ]
     },
     "metadata": {},
     "output_type": "display_data"
    }
   ],
   "source": [
    "testResults$PLS <- predict(plsTune, solTestXtrans)\n",
    "\n",
    "set.seed(100)\n",
    "pcrTune <- train(x = solTrainXtrans, y = solTrainY,\n",
    "                 method = \"pcr\",\n",
    "                 tuneGrid = expand.grid(ncomp = 1:35),\n",
    "                 trControl = ctrl)\n",
    "pcrTune                  "
   ]
  },
  {
   "cell_type": "code",
   "execution_count": 19,
   "metadata": {},
   "outputs": [
    {
     "data": {},
     "metadata": {},
     "output_type": "display_data"
    },
    {
     "data": {
      "image/png": "[encoded data removed]",
      "text/plain": [
       "plot without title"
      ]
     },
     "metadata": {},
     "output_type": "display_data"
    }
   ],
   "source": [
    "\n",
    "plsResamples <- plsTune$results\n",
    "plsResamples$Model <- \"PLS\"\n",
    "pcrResamples <- pcrTune$results\n",
    "pcrResamples$Model <- \"PCR\"\n",
    "plsPlotData <- rbind(plsResamples, pcrResamples)\n",
    "\n",
    "xyplot(RMSE ~ ncomp,\n",
    "       data = plsPlotData,\n",
    "       #aspect = 1,\n",
    "       xlab = \"# Components\",\n",
    "       ylab = \"RMSE (Cross-Validation)\",\n",
    "       auto.key = list(columns = 2),\n",
    "       groups = Model,\n",
    "       type = c(\"o\", \"g\"))"
   ]
  },
  {
   "cell_type": "markdown",
   "metadata": {},
   "source": [
    "## 4. 벌점 모델\n",
    "\n",
    "- 편향성이 증가하면 분산이 작아진다.\n",
    "\n",
    "- 예측 변수 간의 상관계수가 큰 경우, 분산이 매우 커진다.\n",
    "\n",
    "- 편향적인 모델로 인해 발생하는 공선성 문제를 해결하면 총 MSE가 좋은 회귀 모델을 구축할 수 있다.\n",
    "\n",
    "- 편향적 회귀 모델을 만드는 한가지 방법은 **오차 제곱 합에 벌점을 부과** 하는 것이다."
   ]
  },
  {
   "cell_type": "markdown",
   "metadata": {},
   "source": [
    "- 벌점은 SSE가 감소하는 경우에만 인수 추정값이 더 커질 수 있도록 하는 효과를 낸다.\n",
    "\n",
    "- 벌점을 부과하는 방식 -> **분산과 편향 간의 트레이드 오프**\n",
    "\n",
    "- 편향성을 약간 희생해 분산을 축소시켜 비편향 모델에 비해 전체 MSE가 낮아지도록 한다.\n",
    "\n",
    "- 벌점이 커지면 인수 추정값은 서로 다른 속도로 0에 수렴하게 된다."
   ]
  },
  {
   "cell_type": "markdown",
   "metadata": {},
   "source": [
    "### Ridge 회귀 (능형 회귀)\n",
    "\n",
    "- 회귀 계수를 0에 가깝게 축소시키지만 0이 되지는 않는다. (특징 선택을 하지 않는다.)\n",
    "\n",
    "- L2 정규화식을 사용한다."
   ]
  },
  {
   "cell_type": "markdown",
   "metadata": {},
   "source": [
    "### LASSO 회귀\n",
    "\n",
    "- 회귀 계수를 정확히 0이 되게 축소시킨다 (특징 선택을 한다.)\n",
    "\n",
    "- L1 정규화식을 사용한다."
   ]
  },
  {
   "cell_type": "code",
   "execution_count": 23,
   "metadata": {},
   "outputs": [
    {
     "name": "stderr",
     "output_type": "stream",
     "text": [
      "also installing the dependency 'lars'\n",
      "\n"
     ]
    },
    {
     "name": "stdout",
     "output_type": "stream",
     "text": [
      "package 'lars' successfully unpacked and MD5 sums checked\n",
      "package 'elasticnet' successfully unpacked and MD5 sums checked\n",
      "\n",
      "The downloaded binary packages are in\n",
      "\tC:\\Users\\student\\AppData\\Local\\Temp\\RtmpEt9Obq\\downloaded_packages\n"
     ]
    }
   ],
   "source": [
    "install.packages(\"elasticnet\")"
   ]
  },
  {
   "cell_type": "code",
   "execution_count": 24,
   "metadata": {},
   "outputs": [
    {
     "data": {
      "text/plain": [
       "Ridge Regression \n",
       "\n",
       "951 samples\n",
       "228 predictors\n",
       "\n",
       "Pre-processing: centered (228), scaled (228) \n",
       "Resampling: Cross-Validated (10 fold) \n",
       "Summary of sample sizes: 856, 857, 855, 856, 856, 855, ... \n",
       "Resampling results across tuning parameters:\n",
       "\n",
       "  lambda       RMSE       Rsquared   MAE      \n",
       "  0.000000000  0.7353938  0.8724201  0.5440849\n",
       "  0.007142857  0.7047552  0.8818659  0.5352468\n",
       "  0.014285714  0.6964731  0.8847911  0.5298526\n",
       "  0.021428571  0.6925923  0.8862699  0.5270496\n",
       "  0.028571429  0.6908607  0.8870609  0.5260082\n",
       "  0.035714286  0.6904220  0.8874561  0.5260650\n",
       "  0.042857143  0.6908596  0.8875983  0.5267406\n",
       "  0.050000000  0.6919152  0.8875759  0.5277925\n",
       "  0.057142857  0.6934719  0.8874300  0.5291986\n",
       "  0.064285714  0.6954114  0.8872009  0.5308565\n",
       "  0.071428571  0.6976723  0.8869096  0.5327291\n",
       "  0.078571429  0.7002069  0.8865723  0.5347215\n",
       "  0.085714286  0.7029801  0.8862009  0.5368744\n",
       "  0.092857143  0.7059656  0.8858041  0.5391389\n",
       "  0.100000000  0.7091432  0.8853885  0.5415401\n",
       "\n",
       "RMSE was used to select the optimal model using the smallest value.\n",
       "The final value used for the model was lambda = 0.03571429."
      ]
     },
     "metadata": {},
     "output_type": "display_data"
    }
   ],
   "source": [
    "ridgeGrid <- expand.grid(lambda = seq(0, .1, length = 15))\n",
    "\n",
    "set.seed(100)\n",
    "ridgeTune <- train(x = solTrainXtrans, y = solTrainY,\n",
    "                   method = \"ridge\",\n",
    "                   tuneGrid = ridgeGrid,\n",
    "                   trControl = ctrl,\n",
    "                   preProc = c(\"center\", \"scale\"))\n",
    "ridgeTune"
   ]
  },
  {
   "cell_type": "code",
   "execution_count": 25,
   "metadata": {},
   "outputs": [
    {
     "data": {
      "image/png": "[encoded data removed]",
      "text/plain": [
       "plot without title"
      ]
     },
     "metadata": {},
     "output_type": "display_data"
    }
   ],
   "source": [
    "print(update(plot(ridgeTune), xlab = \"Penalty\"))"
   ]
  },
  {
   "cell_type": "markdown",
   "metadata": {},
   "source": [
    "- 최소 각도 회귀 (Least Angle Regression, LARS) : 고차원 문제에 있어서 라소 모델을 보다 효과적으로 최적화 하는데 쓰일 수 있다.\n",
    "\n",
    "- 엘라스틱 넷 (Elastic Net) : 릿지 회귀와 라소 회귀를 조합한 모형"
   ]
  },
  {
   "cell_type": "code",
   "execution_count": 26,
   "metadata": {},
   "outputs": [
    {
     "data": {
      "text/plain": [
       "Elasticnet \n",
       "\n",
       "951 samples\n",
       "228 predictors\n",
       "\n",
       "Pre-processing: centered (228), scaled (228) \n",
       "Resampling: Cross-Validated (10 fold) \n",
       "Summary of sample sizes: 856, 857, 855, 856, 856, 855, ... \n",
       "Resampling results across tuning parameters:\n",
       "\n",
       "  lambda  fraction  RMSE       Rsquared   MAE      \n",
       "  0.00    0.05      0.8697668  0.8339704  0.6591917\n",
       "  0.00    0.10      0.6876406  0.8860368  0.5230357\n",
       "  0.00    0.15      0.6728555  0.8908176  0.5134961\n",
       "  0.00    0.20      0.6753400  0.8904234  0.5164444\n",
       "  0.00    0.25      0.6878960  0.8865271  0.5250011\n",
       "  0.00    0.30      0.6971510  0.8836300  0.5305780\n",
       "  0.00    0.35      0.7063341  0.8808159  0.5354825\n",
       "  0.00    0.40      0.7128053  0.8788310  0.5388954\n",
       "  0.00    0.45      0.7137702  0.8785880  0.5393015\n",
       "  0.00    0.50      0.7140577  0.8785796  0.5392972\n",
       "  0.00    0.55      0.7143832  0.8785180  0.5391753\n",
       "  0.00    0.60      0.7138485  0.8787158  0.5384255\n",
       "  0.00    0.65      0.7139301  0.8787247  0.5379541\n",
       "  0.00    0.70      0.7144253  0.8786094  0.5378227\n",
       "  0.00    0.75      0.7149724  0.8784725  0.5376298\n",
       "  0.00    0.80      0.7157547  0.8782794  0.5375426\n",
       "  0.00    0.85      0.7167324  0.8780349  0.5377561\n",
       "  0.00    0.90      0.7178246  0.8777627  0.5382120\n",
       "  0.00    0.95      0.7191348  0.8774117  0.5388753\n",
       "  0.00    1.00      0.7353938  0.8724201  0.5440849\n",
       "  0.01    0.05      1.5168857  0.6435177  1.1647658\n",
       "  0.01    0.10      1.1324481  0.7671388  0.8666906\n",
       "  0.01    0.15      0.9061843  0.8241043  0.6869828\n",
       "  0.01    0.20      0.7855269  0.8571170  0.5983099\n",
       "  0.01    0.25      0.7296380  0.8733531  0.5550000\n",
       "  0.01    0.30      0.6989522  0.8826020  0.5320711\n",
       "  0.01    0.35      0.6866513  0.8863490  0.5242904\n",
       "  0.01    0.40      0.6806730  0.8884346  0.5203075\n",
       "  0.01    0.45      0.6778780  0.8895285  0.5183958\n",
       "  0.01    0.50      0.6760780  0.8902871  0.5164557\n",
       "  0.01    0.55      0.6743998  0.8909724  0.5153739\n",
       "  0.01    0.60      0.6746777  0.8910026  0.5150322\n",
       "  0.01    0.65      0.6765522  0.8904906  0.5163052\n",
       "  0.01    0.70      0.6796775  0.8895768  0.5185569\n",
       "  0.01    0.75      0.6829651  0.8886182  0.5207939\n",
       "  0.01    0.80      0.6862396  0.8876472  0.5231956\n",
       "  0.01    0.85      0.6895735  0.8866477  0.5256205\n",
       "  0.01    0.90      0.6930103  0.8856210  0.5279280\n",
       "  0.01    0.95      0.6968398  0.8844630  0.5304019\n",
       "  0.01    1.00      0.7006283  0.8833050  0.5327190\n",
       "  0.10    0.05      1.6867967  0.5157969  1.2948015\n",
       "  0.10    0.10      1.4058744  0.6954146  1.0769193\n",
       "  0.10    0.15      1.1697385  0.7596795  0.8938838\n",
       "  0.10    0.20      1.0082617  0.7880698  0.7661293\n",
       "  0.10    0.25      0.8950440  0.8218825  0.6771172\n",
       "  0.10    0.30      0.8193443  0.8435444  0.6221307\n",
       "  0.10    0.35      0.7744593  0.8570276  0.5950714\n",
       "  0.10    0.40      0.7519611  0.8644826  0.5766485\n",
       "  0.10    0.45      0.7343282  0.8710631  0.5619717\n",
       "  0.10    0.50      0.7245543  0.8750318  0.5554409\n",
       "  0.10    0.55      0.7180823  0.8778937  0.5509978\n",
       "  0.10    0.60      0.7137901  0.8799906  0.5481470\n",
       "  0.10    0.65      0.7110967  0.8815343  0.5463529\n",
       "  0.10    0.70      0.7104058  0.8823940  0.5452800\n",
       "  0.10    0.75      0.7103284  0.8829674  0.5442458\n",
       "  0.10    0.80      0.7097899  0.8836319  0.5432626\n",
       "  0.10    0.85      0.7093246  0.8842290  0.5425849\n",
       "  0.10    0.90      0.7094949  0.8845954  0.5425265\n",
       "  0.10    0.95      0.7094181  0.8849823  0.5419677\n",
       "  0.10    1.00      0.7091432  0.8853885  0.5415401\n",
       "\n",
       "RMSE was used to select the optimal model using the smallest value.\n",
       "The final values used for the model were fraction = 0.15 and lambda = 0."
      ]
     },
     "metadata": {},
     "output_type": "display_data"
    }
   ],
   "source": [
    "enetGrid <- expand.grid(lambda = c(0, 0.01, .1), \n",
    "                        fraction = seq(.05, 1, length = 20))\n",
    "set.seed(100)\n",
    "enetTune <- train(x = solTrainXtrans, y = solTrainY,\n",
    "                  method = \"enet\",\n",
    "                  tuneGrid = enetGrid,\n",
    "                  trControl = ctrl,\n",
    "                  preProc = c(\"center\", \"scale\"))\n",
    "enetTune"
   ]
  },
  {
   "cell_type": "code",
   "execution_count": 27,
   "metadata": {},
   "outputs": [
    {
     "data": {},
     "metadata": {},
     "output_type": "display_data"
    },
    {
     "data": {
      "image/png": "[encoded data removed]",
      "text/plain": [
       "plot without title"
      ]
     },
     "metadata": {},
     "output_type": "display_data"
    }
   ],
   "source": [
    "plot(enetTune)"
   ]
  }
 ],
 "metadata": {
  "kernelspec": {
   "display_name": "R",
   "language": "R",
   "name": "ir"
  },
  "language_info": {
   "codemirror_mode": "r",
   "file_extension": ".r",
   "mimetype": "text/x-r-source",
   "name": "R",
   "pygments_lexer": "r",
   "version": "3.4.3"
  }
 },
 "nbformat": 4,
 "nbformat_minor": 2
}
